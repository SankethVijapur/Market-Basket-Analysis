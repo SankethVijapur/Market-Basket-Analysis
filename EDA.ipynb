{
 "cells": [
  {
   "cell_type": "code",
   "execution_count": 16,
   "id": "e67b7bc1",
   "metadata": {},
   "outputs": [],
   "source": [
    "import numpy as np\n",
    "import pandas as pd\n",
    "import os\n",
    "import zipfile\n",
    "import glob\n",
    "import seaborn as sns\n",
    "import matplotlib as mpl\n",
    "import matplotlib.pyplot as plt\n",
    "%matplotlib inline\n",
    "import datetime\n",
    "from IPython.display import display\n",
    "import random\n",
    "\n",
    "# define Seaborn color palette to use\n",
    "# colors = sns.color_palette(\"hls\", 8)\n",
    "colors = sns.color_palette(\"crest\", 8)\n",
    "cmap_colors = sns.cubehelix_palette(start=.5, rot=-.5, as_cmap=True)\n",
    "\n",
    "# define the fig size of all figures\n",
    "plt.rcParams[\"figure.figsize\"] = (10,6)\n",
    "# the directory to unzip the data in\n",
    "data_directory_path = r\"C:\\Users\\ADMIN\\Desktop\\Varun\\Varun Thesis\"\n",
    "\n",
    "# Converting the days and hours from numbers to their interpretable form\n",
    "days_of_week = {0: 'Saturday', \n",
    "                1: 'Sunday', \n",
    "                2: 'Monday',\n",
    "                3: 'Tuesday',\n",
    "                4: 'Wednesday',\n",
    "                5: 'Thursday',\n",
    "                6: 'Friday'}\n",
    "hour_nums = list(range(24))\n",
    "hours_of_day = {hour_num:datetime.time(hour_num).strftime(\"%I:00 %p\") for hour_num in hour_nums}\n"
   ]
  },
  {
   "cell_type": "code",
   "execution_count": 17,
   "id": "1f2d6435",
   "metadata": {},
   "outputs": [],
   "source": [
    "# Unziping all dataset tables. Placing unzipped files in /kaggle/working/dataset directory\n",
    "\n",
    "for dirname, _, filenames in os.walk('/kaggle/input'):\n",
    "    for filename in filenames:\n",
    "        with zipfile.ZipFile(os.path.join(dirname, filename), 'r') as zip_ref:\n",
    "            zip_ref.extractall(data_directory_path)"
   ]
  },
  {
   "cell_type": "code",
   "execution_count": 18,
   "id": "4f72ec6d",
   "metadata": {},
   "outputs": [],
   "source": [
    "''' \n",
    "    iterate through all the columns of a dataframe and modify the data type\n",
    "    to reduce memory usage.\n",
    "'''\n",
    "def reduce_mem_usage(train_data):\n",
    "    start_mem = train_data.memory_usage().sum() / 1024**2\n",
    "    print('Memory usage of dataframe is {:.2f} MB'.format(start_mem))\n",
    "\n",
    "    for col in train_data.columns:\n",
    "        col_type = train_data[col].dtype\n",
    "        \n",
    "        if col_type not in [object, 'category']:\n",
    "            c_min = train_data[col].min()\n",
    "            c_max = train_data[col].max()\n",
    "            if str(col_type)[:3] == 'int':\n",
    "                if c_min > np.iinfo(np.int8).min and c_max < np.iinfo(np.int8).max:\n",
    "                    train_data[col] = train_data[col].astype(np.int8)\n",
    "                elif c_min > np.iinfo(np.int16).min and c_max < np.iinfo(np.int16).max:\n",
    "                    train_data[col] = train_data[col].astype(np.int16)\n",
    "                elif c_min > np.iinfo(np.int32).min and c_max < np.iinfo(np.int32).max:\n",
    "                    train_data[col] = train_data[col].astype(np.int32)\n",
    "                elif c_min > np.iinfo(np.int64).min and c_max < np.iinfo(np.int64).max:\n",
    "                    train_data[col] = train_data[col].astype(np.int64)  \n",
    "            else:\n",
    "                if c_min > np.finfo(np.float16).min and c_max < np.finfo(np.float16).max:\n",
    "                    train_data[col] = train_data[col].astype(np.float16)\n",
    "                elif c_min > np.finfo(np.float32).min and c_max < np.finfo(np.float32).max:\n",
    "                    train_data[col] = train_data[col].astype(np.float32)\n",
    "                else:\n",
    "                    train_data[col] = train_data[col].astype(np.float64)\n",
    "        else:\n",
    "            train_data[col] = train_data[col].astype('category')\n",
    "    end_mem = train_data.memory_usage().sum() / 1024**2\n",
    "    print('Memory usage after optimization is: {:.2f} MB'.format(end_mem))\n",
    "    print('Decreased by {:.1f}%'.format(100 * (start_mem - end_mem) / start_mem))\n",
    "\n",
    "    return train_data\n",
    "\n",
    "# Annotate text on graph\n",
    "def annotate_text(p, append_to_text='%'):\n",
    "    for p in ax.patches:\n",
    "        txt = str(p.get_height().round(2)) + append_to_text\n",
    "        txt_x = p.get_x() + p.get_width()/2.\n",
    "        txt_y = 0.92*p.get_height()\n",
    "        ax.text(txt_x,txt_y,txt, fontsize=20, color='#004235', ha='center', va='bottom')"
   ]
  },
  {
   "cell_type": "code",
   "execution_count": 19,
   "id": "9bed2c32",
   "metadata": {},
   "outputs": [],
   "source": [
    "# Reading the csv files into corresponding dataframes\n",
    "# Then reduce their size to consume less memory\n",
    "aisles = pd.read_csv('aisles.csv')\n",
    "#aisles = reduce_mem_usage(aisles)\n",
    "\n",
    "departments = pd.read_csv('departments.csv')\n",
    "#departments = reduce_mem_usage(departments)\n",
    "\n",
    "order_products_prior = pd.read_csv('order_products__prior.csv')\n",
    "#order_products_prior = reduce_mem_usage(order_products_prior)\n",
    "\n",
    "order_products_train = pd.read_csv('order_products__train.csv')\n",
    "#order_products_train = reduce_mem_usage(order_products_train)\n",
    "\n",
    "orders = pd.read_csv('orders.csv')\n",
    "# Replacing numbers with their corresponding hour representation\n",
    "orders['order_hour_of_day'] = orders['order_hour_of_day'].replace(to_replace=hours_of_day, value=None)\n",
    "orders['order_hour_of_day'] = pd.Categorical(orders['order_hour_of_day'], \n",
    "                                             ordered=True, \n",
    "                                             categories=list(hours_of_day.values()))\n",
    "# Replacing numbers with their corresponding day of week\n",
    "# Define the categories of days of week sorted normally from Saturday to Friday\n",
    "orders['order_dow'] = orders['order_dow'].replace(to_replace=days_of_week, value=None)\n",
    "orders['order_dow'] = pd.Categorical(orders['order_dow'], \n",
    "                                     ordered=True, \n",
    "                                     categories=list(days_of_week.values()))\n",
    "#orders = reduce_mem_usage(orders)\n",
    "\n",
    "products = pd.read_csv('products.csv')\n",
    "#products = reduce_mem_usage(products)"
   ]
  },
  {
   "cell_type": "code",
   "execution_count": 20,
   "id": "9587c3e9",
   "metadata": {},
   "outputs": [
    {
     "data": {
      "image/png": "[encoded data removed]",
      "text/plain": [
       "<Figure size 720x432 with 1 Axes>"
      ]
     },
     "metadata": {
      "needs_background": "light"
     },
     "output_type": "display_data"
    }
   ],
   "source": [
    "# Count of prior, train, test orders given in the data\n",
    "sns.countplot(x='eval_set', data=orders, palette=colors)\n",
    "plt.show()"
   ]
  },
  {
   "cell_type": "code",
   "execution_count": null,
   "id": "720042d8",
   "metadata": {},
   "outputs": [],
   "source": [
    "# Merging the Prior and train order_products\n",
    "Final_df = pd.concat([order_products_train, order_products_prior])\n",
    "Final_df = Final_df.merge(products, on='product_id', how='left').merge(orders, on='order_id', how='left').merge(departments, on='department_id').merge(aisles, on='aisle_id')\n",
    "\n",
    "# Count of total orders\n",
    "total_orders = Final_df['order_id'].nunique()\n",
    "print('Count of total orders: ', total_orders)\n",
    "\n",
    "print('Merging products, order_products, and orders tables...')\n",
    "\n",
    "Final_df.head()"
   ]
  },
  {
   "cell_type": "code",
   "execution_count": null,
   "id": "ba1e4736",
   "metadata": {},
   "outputs": [],
   "source": [
    "Final_df.info()"
   ]
  },
  {
   "cell_type": "code",
   "execution_count": null,
   "id": "ddb4bef2",
   "metadata": {},
   "outputs": [],
   "source": [
    "Final_df.shape"
   ]
  },
  {
   "cell_type": "code",
   "execution_count": null,
   "id": "3131f4eb",
   "metadata": {
    "scrolled": true
   },
   "outputs": [],
   "source": [
    "##Unique rows of the Data\n",
    "print(\"Number of unique rows:\\n\",Final_df.nunique())"
   ]
  },
  {
   "cell_type": "code",
   "execution_count": null,
   "id": "220d94e0",
   "metadata": {},
   "outputs": [],
   "source": [
    "Final_df.columns"
   ]
  }
 ],
 "metadata": {
  "kernelspec": {
   "display_name": "Python 3 (ipykernel)",
   "language": "python",
   "name": "python3"
  },
  "language_info": {
   "codemirror_mode": {
    "name": "ipython",
    "version": 3
   },
   "file_extension": ".py",
   "mimetype": "text/x-python",
   "name": "python",
   "nbconvert_exporter": "python",
   "pygments_lexer": "ipython3",
   "version": "3.11.5"
  }
 },
 "nbformat": 4,
 "nbformat_minor": 5
}
